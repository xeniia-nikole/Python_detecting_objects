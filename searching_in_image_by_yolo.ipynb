{
  "nbformat": 4,
  "nbformat_minor": 0,
  "metadata": {
    "colab": {
      "provenance": [],
      "authorship_tag": "ABX9TyNG1tFJszskMZZNKElfkqbR",
      "include_colab_link": true
    },
    "kernelspec": {
      "name": "python3",
      "display_name": "Python 3"
    },
    "language_info": {
      "name": "python"
    }
  },
  "cells": [
    {
      "cell_type": "markdown",
      "metadata": {
        "id": "view-in-github",
        "colab_type": "text"
      },
      "source": [
        "<a href=\"https://colab.research.google.com/github/xeniia-nikole/Python_detecting_objects/blob/master/searching_in_image_by_yolo.ipynb\" target=\"_parent\"><img src=\"https://colab.research.google.com/assets/colab-badge.svg\" alt=\"Open In Colab\"/></a>"
      ]
    },
    {
      "cell_type": "code",
      "source": [
        "! pip install opencv-python\n",
        "import cv2\n",
        "import os\n",
        "import numpy as np\n",
        "from IPython.display import Image \n",
        "\n",
        "net = cv2.dnn.readNet('/content/yolov3-tiny.weights',\n",
        "                '/content/yolov3-tiny.cfg')\n",
        "\n",
        "with open('/content/coco.names') as f:\n",
        "  labels = f.read().strip().split('\\n')\n",
        "#print(labels)\n",
        "\n",
        "# image = cv2.imread('/content/couple_of_birds2.jpg')\n",
        "# Image('/content/couple_of_birds2.jpg')\n",
        "\n",
        "image = cv2.imread('/content/couple2.jpg')\n",
        "Image('/content/couple2.jpg')\n",
        "\n",
        "height, width, depth = image.shape"
      ],
      "metadata": {
        "id": "SO5hJwOCXFE8"
      },
      "execution_count": null,
      "outputs": []
    },
    {
      "cell_type": "code",
      "source": [
        "blob = cv2.dnn.blobFromImage(image, 1/255, (416, 416), (0, 0, 0), swapRB = True)\n",
        "net.setInput(blob)\n",
        "\n",
        "layers_names = net.getLayerNames()\n",
        "unconnected_layers = net.getUnconnectedOutLayersNames()\n",
        "print(unconnected_layers)\n",
        "\n",
        "output_layers = net.forward(unconnected_layers)\n",
        "print(output_layers)"
      ],
      "metadata": {
        "id": "-3SS7sKgxLPM"
      },
      "execution_count": null,
      "outputs": []
    },
    {
      "cell_type": "code",
      "source": [
        "def draw_objects(x, y, w, h, image):\n",
        "  x1, y1 = x - w // 2, y - h // 2\n",
        "  x2, y2 = x + w // 2, y + h // 2\n",
        "  color = [238, 151, 255]\n",
        "  width = 2\n",
        "  font_size = 1\n",
        "  font = cv2.FONT_HERSHEY_SIMPLEX\n",
        "  text = 'bird'\n",
        "\n",
        "  image = cv2.rectangle(image, (x1, y1), (x2, y2), color, width)\n",
        "  image = cv2.putText(image, text, (x1, y1 - 10), font, font_size, color, width)\n",
        "\n",
        "  return image "
      ],
      "metadata": {
        "id": "t4cyqzioRleJ"
      },
      "execution_count": 128,
      "outputs": []
    },
    {
      "cell_type": "code",
      "source": [
        "boxes = []\n",
        "probabilities = []\n",
        "\n",
        "for layer in output_layers: \n",
        "  for result in layer:\n",
        "    x, y, w, h = result[:4]\n",
        "    x = int(x * width)\n",
        "    y = int(y * height)\n",
        "    w = int(w * width)\n",
        "    h = int(h * height) \n",
        "    # print(layer)\n",
        "    # print(result)\n",
        "    \n",
        "    probability = result[5:]\n",
        "    index_max_probability = np.argmax(probability)\n",
        "    max_probability = probability[index_max_probability]\n",
        "\n",
        "    if max_probability > 0:\n",
        "      image_with_objects = draw_objects(x, y, w, h, image)\n",
        "\n",
        "      boxes.append([x, y, w, h])\n",
        "      probabilities.append(max_probability)"
      ],
      "metadata": {
        "id": "Y4gBc6k8E9A1"
      },
      "execution_count": 135,
      "outputs": []
    },
    {
      "cell_type": "code",
      "source": [
        "filtered_boxes = cv2.dnn.NMSBoxes(boxes, probabilities, 0.0, 0.7)\n",
        "for x, y, w, h in filtered_boxes:\n",
        "  image_with_objects = draw_objects(x, y, w, h, image)"
      ],
      "metadata": {
        "id": "hAjEYNYpUz3W"
      },
      "execution_count": null,
      "outputs": []
    },
    {
      "cell_type": "code",
      "source": [
        "cv2.imwrite('/content/image_with_objects.jpg', image_with_objects)\n",
        "Image('/content/image_with_objects.jpg')"
      ],
      "metadata": {
        "id": "JzDLlHyrU5Ly"
      },
      "execution_count": null,
      "outputs": []
    },
    {
      "cell_type": "code",
      "source": [
        "os.remove('image_with_objects.jpg')\n",
        "del(image_with_objects)"
      ],
      "metadata": {
        "id": "hUhowSrfBpso"
      },
      "execution_count": 132,
      "outputs": []
    }
  ]
}